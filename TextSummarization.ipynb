{
 "cells": [
  {
   "cell_type": "code",
   "execution_count": 17,
   "metadata": {},
   "outputs": [],
   "source": [
    "text = text = \"\"\"Rivers of Bangladesh Composition: Bangladesh is called a riverine country. The Padma, The Meghna, The Jamuna, The Buriganga etc. are the main rivers of Bangladesh. Most of these rivers rise from the Himalayas and fall into the Bay of Bengal.\n",
    "\n",
    "Some rivers are big and some are small. All the rivers are the source of our wealth. Our agriculture depends on the rivers. Because all these rivers have made the soil fertile. So various kinds of crops grow in plenty here. Rivers help us in irrigation.\n",
    "\n",
    "Our rivers are a good source of fish. It is an important wealth. Our fishermen catch a huge quantity of fish for their livelihood. Fishermen also earn a lot of foreign exchange by exporting fish.\n",
    "\n",
    "The rivers are also used as the waterways. Water-ways are easier, cheaper and more comfortable. Steamers, launches and boats carry men and goods from one part to another in all seasons. Rivers play a significant role in commerce, trade and industry. Most of the towns, cities, trade centres, industries are on the bank of the river. Raw materials and industrials products are carried to different places through these rivers. Some rivers are also used to produce electricity.\n",
    "\n",
    "Rivers have some demerits also. Sometimes they cause a great damage to our life and property. In the rainy season, the rivers overflow their banks and cause a flood. They bring untold sufferings to the people. The rivers have a great influence on the people of our country. In spite of the little harm, the rivers are useful to us in many ways. They are the source of our health wealth and happiness. So proper steps should be taken to save these rivers as early as possible.\"\"\""
   ]
  },
  {
   "cell_type": "code",
   "execution_count": null,
   "metadata": {},
   "outputs": [],
   "source": []
  },
  {
   "cell_type": "code",
   "execution_count": 54,
   "metadata": {},
   "outputs": [],
   "source": [
    "import spacy\n",
    "from spacy.lang.en.stop_words import STOP_WORDS\n",
    "from string import punctuation"
   ]
  },
  {
   "cell_type": "code",
   "execution_count": 55,
   "metadata": {},
   "outputs": [],
   "source": [
    "nlp = spacy.load('en_core_web_sm')"
   ]
  },
  {
   "cell_type": "code",
   "execution_count": 56,
   "metadata": {},
   "outputs": [],
   "source": [
    "stopwords = list(STOP_WORDS)"
   ]
  },
  {
   "cell_type": "code",
   "execution_count": 57,
   "metadata": {},
   "outputs": [],
   "source": [
    "doc =nlp(text)"
   ]
  },
  {
   "cell_type": "code",
   "execution_count": 89,
   "metadata": {},
   "outputs": [
    {
     "name": "stdout",
     "output_type": "stream",
     "text": [
      "['Rivers', 'of', 'Bangladesh', 'Composition', ':', 'Bangladesh', 'is', 'called', 'a', 'riverine', 'country', '.', 'The', 'Padma', ',', 'The', 'Meghna', ',', 'The', 'Jamuna', ',', 'The', 'Buriganga', 'etc', '.', 'are', 'the', 'main', 'rivers', 'of', 'Bangladesh', '.', 'Most', 'of', 'these', 'rivers', 'rise', 'from', 'the', 'Himalayas', 'and', 'fall', 'into', 'the', 'Bay', 'of', 'Bengal', '.', '\\n\\n', 'Some', 'rivers', 'are', 'big', 'and', 'some', 'are', 'small', '.', 'All', 'the', 'rivers', 'are', 'the', 'source', 'of', 'our', 'wealth', '.', 'Our', 'agriculture', 'depends', 'on', 'the', 'rivers', '.', 'Because', 'all', 'these', 'rivers', 'have', 'made', 'the', 'soil', 'fertile', '.', 'So', 'various', 'kinds', 'of', 'crops', 'grow', 'in', 'plenty', 'here', '.', 'Rivers', 'help', 'us', 'in', 'irrigation', '.', '\\n\\n', 'Our', 'rivers', 'are', 'a', 'good', 'source', 'of', 'fish', '.', 'It', 'is', 'an', 'important', 'wealth', '.', 'Our', 'fishermen', 'catch', 'a', 'huge', 'quantity', 'of', 'fish', 'for', 'their', 'livelihood', '.', 'Fishermen', 'also', 'earn', 'a', 'lot', 'of', 'foreign', 'exchange', 'by', 'exporting', 'fish', '.', '\\n\\n', 'The', 'rivers', 'are', 'also', 'used', 'as', 'the', 'waterways', '.', 'Water', '-', 'ways', 'are', 'easier', ',', 'cheaper', 'and', 'more', 'comfortable', '.', 'Steamers', ',', 'launches', 'and', 'boats', 'carry', 'men', 'and', 'goods', 'from', 'one', 'part', 'to', 'another', 'in', 'all', 'seasons', '.', 'Rivers', 'play', 'a', 'significant', 'role', 'in', 'commerce', ',', 'trade', 'and', 'industry', '.', 'Most', 'of', 'the', 'towns', ',', 'cities', ',', 'trade', 'centres', ',', 'industries', 'are', 'on', 'the', 'bank', 'of', 'the', 'river', '.', 'Raw', 'materials', 'and', 'industrials', 'products', 'are', 'carried', 'to', 'different', 'places', 'through', 'these', 'rivers', '.', 'Some', 'rivers', 'are', 'also', 'used', 'to', 'produce', 'electricity', '.', '\\n\\n', 'Rivers', 'have', 'some', 'demerits', 'also', '.', 'Sometimes', 'they', 'cause', 'a', 'great', 'damage', 'to', 'our', 'life', 'and', 'property', '.', 'In', 'the', 'rainy', 'season', ',', 'the', 'rivers', 'overflow', 'their', 'banks', 'and', 'cause', 'a', 'flood', '.', 'They', 'bring', 'untold', 'sufferings', 'to', 'the', 'people', '.', 'The', 'rivers', 'have', 'a', 'great', 'influence', 'on', 'the', 'people', 'of', 'our', 'country', '.', 'In', 'spite', 'of', 'the', 'little', 'harm', ',', 'the', 'rivers', 'are', 'useful', 'to', 'us', 'in', 'many', 'ways', '.', 'They', 'are', 'the', 'source', 'of', 'our', 'health', 'wealth', 'and', 'happiness', '.', 'So', 'proper', 'steps', 'should', 'be', 'taken', 'to', 'save', 'these', 'rivers', 'as', 'early', 'as', 'possible', '.']\n"
     ]
    }
   ],
   "source": [
    "tokens =[token.text for token in doc]\n",
    "print(tokens)"
   ]
  },
  {
   "cell_type": "code",
   "execution_count": null,
   "metadata": {},
   "outputs": [],
   "source": []
  },
  {
   "cell_type": "code",
   "execution_count": 90,
   "metadata": {},
   "outputs": [],
   "source": [
    "punctuation = punctuation +'\\n'"
   ]
  },
  {
   "cell_type": "code",
   "execution_count": 91,
   "metadata": {},
   "outputs": [
    {
     "data": {
      "text/plain": [
       "'!\"#$%&\\'()*+,-./:;<=>?@[\\\\]^_`{|}~\\n\\n'"
      ]
     },
     "execution_count": 91,
     "metadata": {},
     "output_type": "execute_result"
    }
   ],
   "source": [
    "punctuation"
   ]
  },
  {
   "cell_type": "code",
   "execution_count": 92,
   "metadata": {},
   "outputs": [],
   "source": [
    "word_frequency = {}\n",
    "for word in doc:\n",
    "    if word.text.lower() not in stopwords:\n",
    "        if word.text.lower() not in punctuation:\n",
    "            if word.text not in word_frequency.keys():\n",
    "                word_frequency[word.text] = 1\n",
    "            else:\n",
    "                word_frequency[word.text] +=1"
   ]
  },
  {
   "cell_type": "code",
   "execution_count": 93,
   "metadata": {},
   "outputs": [
    {
     "name": "stdout",
     "output_type": "stream",
     "text": [
      "{'Rivers': 4, 'Bangladesh': 3, 'Composition': 1, 'called': 1, 'riverine': 1, 'country': 2, 'Padma': 1, 'Meghna': 1, 'Jamuna': 1, 'Buriganga': 1, 'etc': 1, 'main': 1, 'rivers': 14, 'rise': 1, 'Himalayas': 1, 'fall': 1, 'Bay': 1, 'Bengal': 1, 'big': 1, 'small': 1, 'source': 3, 'wealth': 3, 'agriculture': 1, 'depends': 1, 'soil': 1, 'fertile': 1, 'kinds': 1, 'crops': 1, 'grow': 1, 'plenty': 1, 'help': 1, 'irrigation': 1, 'good': 1, 'fish': 3, 'important': 1, 'fishermen': 1, 'catch': 1, 'huge': 1, 'quantity': 1, 'livelihood': 1, 'Fishermen': 1, 'earn': 1, 'lot': 1, 'foreign': 1, 'exchange': 1, 'exporting': 1, 'waterways': 1, 'Water': 1, 'ways': 2, 'easier': 1, 'cheaper': 1, 'comfortable': 1, 'Steamers': 1, 'launches': 1, 'boats': 1, 'carry': 1, 'men': 1, 'goods': 1, 'seasons': 1, 'play': 1, 'significant': 1, 'role': 1, 'commerce': 1, 'trade': 2, 'industry': 1, 'towns': 1, 'cities': 1, 'centres': 1, 'industries': 1, 'bank': 1, 'river': 1, 'Raw': 1, 'materials': 1, 'industrials': 1, 'products': 1, 'carried': 1, 'different': 1, 'places': 1, 'produce': 1, 'electricity': 1, 'demerits': 1, 'cause': 2, 'great': 2, 'damage': 1, 'life': 1, 'property': 1, 'rainy': 1, 'season': 1, 'overflow': 1, 'banks': 1, 'flood': 1, 'bring': 1, 'untold': 1, 'sufferings': 1, 'people': 2, 'influence': 1, 'spite': 1, 'little': 1, 'harm': 1, 'useful': 1, 'health': 1, 'happiness': 1, 'proper': 1, 'steps': 1, 'taken': 1, 'save': 1, 'early': 1, 'possible': 1}\n"
     ]
    }
   ],
   "source": [
    "print(word_frequency)"
   ]
  },
  {
   "cell_type": "code",
   "execution_count": 94,
   "metadata": {},
   "outputs": [],
   "source": [
    "max_frequency =max(word_frequency.values())"
   ]
  },
  {
   "cell_type": "code",
   "execution_count": 95,
   "metadata": {},
   "outputs": [
    {
     "data": {
      "text/plain": [
       "14"
      ]
     },
     "execution_count": 95,
     "metadata": {},
     "output_type": "execute_result"
    }
   ],
   "source": [
    "max_frequency"
   ]
  },
  {
   "cell_type": "code",
   "execution_count": 96,
   "metadata": {},
   "outputs": [],
   "source": [
    "for word in word_frequency.keys():\n",
    "    word_frequency[word] = word_frequency[word]/max_frequency"
   ]
  },
  {
   "cell_type": "code",
   "execution_count": 97,
   "metadata": {},
   "outputs": [
    {
     "name": "stdout",
     "output_type": "stream",
     "text": [
      "{'Rivers': 0.2857142857142857, 'Bangladesh': 0.21428571428571427, 'Composition': 0.07142857142857142, 'called': 0.07142857142857142, 'riverine': 0.07142857142857142, 'country': 0.14285714285714285, 'Padma': 0.07142857142857142, 'Meghna': 0.07142857142857142, 'Jamuna': 0.07142857142857142, 'Buriganga': 0.07142857142857142, 'etc': 0.07142857142857142, 'main': 0.07142857142857142, 'rivers': 1.0, 'rise': 0.07142857142857142, 'Himalayas': 0.07142857142857142, 'fall': 0.07142857142857142, 'Bay': 0.07142857142857142, 'Bengal': 0.07142857142857142, 'big': 0.07142857142857142, 'small': 0.07142857142857142, 'source': 0.21428571428571427, 'wealth': 0.21428571428571427, 'agriculture': 0.07142857142857142, 'depends': 0.07142857142857142, 'soil': 0.07142857142857142, 'fertile': 0.07142857142857142, 'kinds': 0.07142857142857142, 'crops': 0.07142857142857142, 'grow': 0.07142857142857142, 'plenty': 0.07142857142857142, 'help': 0.07142857142857142, 'irrigation': 0.07142857142857142, 'good': 0.07142857142857142, 'fish': 0.21428571428571427, 'important': 0.07142857142857142, 'fishermen': 0.07142857142857142, 'catch': 0.07142857142857142, 'huge': 0.07142857142857142, 'quantity': 0.07142857142857142, 'livelihood': 0.07142857142857142, 'Fishermen': 0.07142857142857142, 'earn': 0.07142857142857142, 'lot': 0.07142857142857142, 'foreign': 0.07142857142857142, 'exchange': 0.07142857142857142, 'exporting': 0.07142857142857142, 'waterways': 0.07142857142857142, 'Water': 0.07142857142857142, 'ways': 0.14285714285714285, 'easier': 0.07142857142857142, 'cheaper': 0.07142857142857142, 'comfortable': 0.07142857142857142, 'Steamers': 0.07142857142857142, 'launches': 0.07142857142857142, 'boats': 0.07142857142857142, 'carry': 0.07142857142857142, 'men': 0.07142857142857142, 'goods': 0.07142857142857142, 'seasons': 0.07142857142857142, 'play': 0.07142857142857142, 'significant': 0.07142857142857142, 'role': 0.07142857142857142, 'commerce': 0.07142857142857142, 'trade': 0.14285714285714285, 'industry': 0.07142857142857142, 'towns': 0.07142857142857142, 'cities': 0.07142857142857142, 'centres': 0.07142857142857142, 'industries': 0.07142857142857142, 'bank': 0.07142857142857142, 'river': 0.07142857142857142, 'Raw': 0.07142857142857142, 'materials': 0.07142857142857142, 'industrials': 0.07142857142857142, 'products': 0.07142857142857142, 'carried': 0.07142857142857142, 'different': 0.07142857142857142, 'places': 0.07142857142857142, 'produce': 0.07142857142857142, 'electricity': 0.07142857142857142, 'demerits': 0.07142857142857142, 'cause': 0.14285714285714285, 'great': 0.14285714285714285, 'damage': 0.07142857142857142, 'life': 0.07142857142857142, 'property': 0.07142857142857142, 'rainy': 0.07142857142857142, 'season': 0.07142857142857142, 'overflow': 0.07142857142857142, 'banks': 0.07142857142857142, 'flood': 0.07142857142857142, 'bring': 0.07142857142857142, 'untold': 0.07142857142857142, 'sufferings': 0.07142857142857142, 'people': 0.14285714285714285, 'influence': 0.07142857142857142, 'spite': 0.07142857142857142, 'little': 0.07142857142857142, 'harm': 0.07142857142857142, 'useful': 0.07142857142857142, 'health': 0.07142857142857142, 'happiness': 0.07142857142857142, 'proper': 0.07142857142857142, 'steps': 0.07142857142857142, 'taken': 0.07142857142857142, 'save': 0.07142857142857142, 'early': 0.07142857142857142, 'possible': 0.07142857142857142}\n"
     ]
    }
   ],
   "source": [
    "print(word_frequency)"
   ]
  },
  {
   "cell_type": "code",
   "execution_count": 98,
   "metadata": {},
   "outputs": [],
   "source": [
    "sentence_tokens = [sent for sent in doc.sents]"
   ]
  },
  {
   "cell_type": "code",
   "execution_count": 99,
   "metadata": {},
   "outputs": [
    {
     "name": "stdout",
     "output_type": "stream",
     "text": [
      "[Rivers of Bangladesh Composition: Bangladesh is called a riverine country., The Padma, The Meghna, The Jamuna, The Buriganga etc. are the main rivers of Bangladesh., Most of these rivers rise from the Himalayas and fall into the Bay of Bengal.\n",
      "\n",
      ", Some rivers are big and some are small., All the rivers are the source of our wealth., Our agriculture depends on the rivers., Because all these rivers have made the soil fertile., So various kinds of crops grow in plenty here., Rivers help us in irrigation.\n",
      "\n",
      ", Our rivers are a good source of fish., It is an important wealth., Our fishermen catch a huge quantity of fish for their livelihood., Fishermen also earn a lot of foreign exchange by exporting fish.\n",
      "\n",
      ", The rivers are also used as the waterways., Water-ways are easier, cheaper and more comfortable., Steamers, launches and boats carry men and goods from one part to another in all seasons., Rivers play a significant role in commerce, trade and industry., Most of the towns, cities, trade centres, industries are on the bank of the river., Raw materials and industrials products are carried to different places through these rivers., Some rivers are also used to produce electricity.\n",
      "\n",
      ", Rivers have some demerits also., Sometimes they cause a great damage to our life and property., In the rainy season, the rivers overflow their banks and cause a flood., They bring untold sufferings to the people., The rivers have a great influence on the people of our country., In spite of the little harm, the rivers are useful to us in many ways., They are the source of our health wealth and happiness., So proper steps should be taken to save these rivers as early as possible.]\n"
     ]
    }
   ],
   "source": [
    "print(sentence_tokens)"
   ]
  },
  {
   "cell_type": "code",
   "execution_count": 100,
   "metadata": {},
   "outputs": [],
   "source": [
    "sentence_scores = {}\n",
    "for sent in sentence_tokens:\n",
    "    for word in sent:\n",
    "        if word.text.lower() in word_frequency.keys():\n",
    "            if sent not in sentence_scores.keys():\n",
    "                sentence_scores[sent] = word_frequency[word.text.lower()]\n",
    "            else:\n",
    "                sentence_scores[sent] += word_frequency[word.text.lower()]"
   ]
  },
  {
   "cell_type": "code",
   "execution_count": 101,
   "metadata": {},
   "outputs": [
    {
     "data": {
      "text/plain": [
       "{Rivers of Bangladesh Composition: Bangladesh is called a riverine country.: 1.2857142857142856,\n",
       " The Padma, The Meghna, The Jamuna, The Buriganga etc. are the main rivers of Bangladesh.: 1.1428571428571428,\n",
       " Most of these rivers rise from the Himalayas and fall into the Bay of Bengal.\n",
       " : 1.1428571428571428,\n",
       " Some rivers are big and some are small.: 1.1428571428571428,\n",
       " All the rivers are the source of our wealth.: 1.4285714285714284,\n",
       " Our agriculture depends on the rivers.: 1.1428571428571428,\n",
       " Because all these rivers have made the soil fertile.: 1.1428571428571428,\n",
       " So various kinds of crops grow in plenty here.: 0.2857142857142857,\n",
       " Rivers help us in irrigation.\n",
       " : 1.1428571428571428,\n",
       " Our rivers are a good source of fish.: 1.4999999999999998,\n",
       " It is an important wealth.: 0.2857142857142857,\n",
       " Our fishermen catch a huge quantity of fish for their livelihood.: 0.5714285714285714,\n",
       " Fishermen also earn a lot of foreign exchange by exporting fish.\n",
       " : 0.6428571428571428,\n",
       " The rivers are also used as the waterways.: 1.0714285714285714,\n",
       " Water-ways are easier, cheaper and more comfortable.: 0.3571428571428571,\n",
       " Steamers, launches and boats carry men and goods from one part to another in all seasons.: 0.4285714285714285,\n",
       " Rivers play a significant role in commerce, trade and industry.: 1.4999999999999998,\n",
       " Most of the towns, cities, trade centres, industries are on the bank of the river.: 0.5714285714285713,\n",
       " Raw materials and industrials products are carried to different places through these rivers.: 1.4285714285714284,\n",
       " Some rivers are also used to produce electricity.\n",
       " : 1.1428571428571428,\n",
       " Rivers have some demerits also.: 1.0714285714285714,\n",
       " Sometimes they cause a great damage to our life and property.: 0.4999999999999999,\n",
       " In the rainy season, the rivers overflow their banks and cause a flood.: 1.4999999999999998,\n",
       " They bring untold sufferings to the people.: 0.3571428571428571,\n",
       " The rivers have a great influence on the people of our country.: 1.4999999999999998,\n",
       " In spite of the little harm, the rivers are useful to us in many ways.: 1.4285714285714284,\n",
       " They are the source of our health wealth and happiness.: 0.5714285714285714,\n",
       " So proper steps should be taken to save these rivers as early as possible.: 1.4285714285714284}"
      ]
     },
     "execution_count": 101,
     "metadata": {},
     "output_type": "execute_result"
    }
   ],
   "source": [
    "sentence_scores"
   ]
  },
  {
   "cell_type": "code",
   "execution_count": 102,
   "metadata": {},
   "outputs": [],
   "source": [
    "from heapq import nlargest"
   ]
  },
  {
   "cell_type": "code",
   "execution_count": 103,
   "metadata": {},
   "outputs": [],
   "source": [
    "select_length = int(len(sentence_tokens)*.3)"
   ]
  },
  {
   "cell_type": "code",
   "execution_count": 104,
   "metadata": {},
   "outputs": [
    {
     "data": {
      "text/plain": [
       "8"
      ]
     },
     "execution_count": 104,
     "metadata": {},
     "output_type": "execute_result"
    }
   ],
   "source": [
    "select_length"
   ]
  },
  {
   "cell_type": "code",
   "execution_count": 105,
   "metadata": {},
   "outputs": [],
   "source": [
    "summary = nlargest(select_length,sentence_scores, key = sentence_scores.get)"
   ]
  },
  {
   "cell_type": "code",
   "execution_count": 106,
   "metadata": {},
   "outputs": [
    {
     "data": {
      "text/plain": [
       "[Our rivers are a good source of fish.,\n",
       " Rivers play a significant role in commerce, trade and industry.,\n",
       " In the rainy season, the rivers overflow their banks and cause a flood.,\n",
       " The rivers have a great influence on the people of our country.,\n",
       " All the rivers are the source of our wealth.,\n",
       " Raw materials and industrials products are carried to different places through these rivers.,\n",
       " In spite of the little harm, the rivers are useful to us in many ways.,\n",
       " So proper steps should be taken to save these rivers as early as possible.]"
      ]
     },
     "execution_count": 106,
     "metadata": {},
     "output_type": "execute_result"
    }
   ],
   "source": [
    "summary"
   ]
  },
  {
   "cell_type": "code",
   "execution_count": 107,
   "metadata": {},
   "outputs": [],
   "source": [
    "final_summary = [word.text for word in summary]\n"
   ]
  },
  {
   "cell_type": "code",
   "execution_count": 108,
   "metadata": {},
   "outputs": [],
   "source": [
    "summary = ' '.join(final_summary )"
   ]
  },
  {
   "cell_type": "code",
   "execution_count": 109,
   "metadata": {},
   "outputs": [
    {
     "name": "stdout",
     "output_type": "stream",
     "text": [
      "Rivers of Bangladesh Composition: Bangladesh is called a riverine country. The Padma, The Meghna, The Jamuna, The Buriganga etc. are the main rivers of Bangladesh. Most of these rivers rise from the Himalayas and fall into the Bay of Bengal.\n",
      "\n",
      "Some rivers are big and some are small. All the rivers are the source of our wealth. Our agriculture depends on the rivers. Because all these rivers have made the soil fertile. So various kinds of crops grow in plenty here. Rivers help us in irrigation.\n",
      "\n",
      "Our rivers are a good source of fish. It is an important wealth. Our fishermen catch a huge quantity of fish for their livelihood. Fishermen also earn a lot of foreign exchange by exporting fish.\n",
      "\n",
      "The rivers are also used as the waterways. Water-ways are easier, cheaper and more comfortable. Steamers, launches and boats carry men and goods from one part to another in all seasons. Rivers play a significant role in commerce, trade and industry. Most of the towns, cities, trade centres, industries are on the bank of the river. Raw materials and industrials products are carried to different places through these rivers. Some rivers are also used to produce electricity.\n",
      "\n",
      "Rivers have some demerits also. Sometimes they cause a great damage to our life and property. In the rainy season, the rivers overflow their banks and cause a flood. They bring untold sufferings to the people. The rivers have a great influence on the people of our country. In spite of the little harm, the rivers are useful to us in many ways. They are the source of our health wealth and happiness. So proper steps should be taken to save these rivers as early as possible.\n"
     ]
    }
   ],
   "source": [
    "print(text)"
   ]
  },
  {
   "cell_type": "code",
   "execution_count": 110,
   "metadata": {},
   "outputs": [
    {
     "name": "stdout",
     "output_type": "stream",
     "text": [
      "Our rivers are a good source of fish. Rivers play a significant role in commerce, trade and industry. In the rainy season, the rivers overflow their banks and cause a flood. The rivers have a great influence on the people of our country. All the rivers are the source of our wealth. Raw materials and industrials products are carried to different places through these rivers. In spite of the little harm, the rivers are useful to us in many ways. So proper steps should be taken to save these rivers as early as possible.\n"
     ]
    }
   ],
   "source": [
    "print(summary)"
   ]
  },
  {
   "cell_type": "code",
   "execution_count": 111,
   "metadata": {},
   "outputs": [
    {
     "data": {
      "text/plain": [
       "1647"
      ]
     },
     "execution_count": 111,
     "metadata": {},
     "output_type": "execute_result"
    }
   ],
   "source": [
    "len(text)"
   ]
  },
  {
   "cell_type": "code",
   "execution_count": 112,
   "metadata": {},
   "outputs": [
    {
     "data": {
      "text/plain": [
       "521"
      ]
     },
     "execution_count": 112,
     "metadata": {},
     "output_type": "execute_result"
    }
   ],
   "source": [
    "len(summary)"
   ]
  },
  {
   "cell_type": "code",
   "execution_count": null,
   "metadata": {},
   "outputs": [],
   "source": []
  }
 ],
 "metadata": {
  "kernelspec": {
   "display_name": "Python 3",
   "language": "python",
   "name": "python3"
  },
  "language_info": {
   "codemirror_mode": {
    "name": "ipython",
    "version": 3
   },
   "file_extension": ".py",
   "mimetype": "text/x-python",
   "name": "python",
   "nbconvert_exporter": "python",
   "pygments_lexer": "ipython3",
   "version": "3.8.3"
  }
 },
 "nbformat": 4,
 "nbformat_minor": 4
}
